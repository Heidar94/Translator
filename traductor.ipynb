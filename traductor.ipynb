{
 "cells": [
  {
   "cell_type": "markdown",
   "id": "3e97767c",
   "metadata": {},
   "source": [
    "Instalación de librerías (hacerlo solo la primera vez)"
   ]
  },
  {
   "cell_type": "code",
   "execution_count": null,
   "id": "77620cee",
   "metadata": {},
   "outputs": [],
   "source": [
    "%pip install googletrans"
   ]
  },
  {
   "cell_type": "code",
   "execution_count": null,
   "id": "ff778c3d",
   "metadata": {},
   "outputs": [],
   "source": [
    "%pip install \"httpx[http2]>=0.28\" "
   ]
  },
  {
   "cell_type": "code",
   "execution_count": null,
   "id": "ed1d73c4",
   "metadata": {},
   "outputs": [],
   "source": [
    "%pip install gTTS"
   ]
  },
  {
   "cell_type": "code",
   "execution_count": null,
   "id": "d456efe9",
   "metadata": {},
   "outputs": [],
   "source": [
    "%pip install SpeechRecognition"
   ]
  },
  {
   "cell_type": "code",
   "execution_count": null,
   "id": "d3c8a456",
   "metadata": {},
   "outputs": [],
   "source": [
    "%pip install pyaudio"
   ]
  },
  {
   "cell_type": "markdown",
   "id": "fd919304",
   "metadata": {},
   "source": [
    "Importe de las librerias"
   ]
  },
  {
   "cell_type": "code",
   "execution_count": null,
   "id": "a80864cc",
   "metadata": {},
   "outputs": [],
   "source": [
    "import googletrans\n",
    "from googletrans import Translator # To detect and translate text\n",
    "\n",
    "import speech_recognition as sr # To recognize speech\n",
    "\n",
    "from gtts import gTTS # Google Text-to-Speech to convert text to audio\n",
    "\n",
    "import os # To work with files\n",
    "import asyncio"
   ]
  },
  {
   "cell_type": "markdown",
   "id": "d831fdd9",
   "metadata": {},
   "source": [
    "Lista de lenguajes del traductor de google"
   ]
  },
  {
   "cell_type": "code",
   "execution_count": null,
   "id": "020e04c3",
   "metadata": {},
   "outputs": [],
   "source": [
    "print(googletrans.LANGUAGES)"
   ]
  },
  {
   "cell_type": "markdown",
   "id": "21306b05",
   "metadata": {},
   "source": [
    "Prueba para saber si detecta correctamente el idioma"
   ]
  },
  {
   "cell_type": "code",
   "execution_count": null,
   "id": "16f628c2",
   "metadata": {},
   "outputs": [],
   "source": [
    "async def detect_language():\n",
    "    translator = Translator()\n",
    "    res1 = await translator.detect(\"Salut comment ça va?\")\n",
    "    res2 = await translator.detect(\"Kon'nichiwa, genkidesuka\")\n",
    "    print(res1)\n",
    "    print(res2)\n",
    "\n",
    "await detect_language()\n"
   ]
  },
  {
   "cell_type": "code",
   "execution_count": null,
   "id": "8b7ea599",
   "metadata": {},
   "outputs": [],
   "source": [
    "async def translate_text():\n",
    "    translator = Translator()\n",
    "    res1 = await translator.translate(\"Salut comment ça va?\")\n",
    "    res2 = await translator.translate(\"Kon'nichiwa, genkidesuka\")\n",
    "    print(res1.text)  # How are you?\n",
    "    print(res2.text)  # Hello, how are you?\n",
    "\n",
    "await translate_text()"
   ]
  },
  {
   "cell_type": "markdown",
   "id": "add030b3",
   "metadata": {},
   "source": [
    "Traductor de voz"
   ]
  },
  {
   "cell_type": "code",
   "execution_count": null,
   "id": "73ac6a99",
   "metadata": {},
   "outputs": [],
   "source": [
    "import speech_recognition as sr\n",
    "from googletrans import Translator\n",
    "\n",
    "rec = sr.Recognizer()\n",
    "mic = sr.Microphone()\n",
    "translator = Translator()\n",
    "\n",
    "async def grabar_y_traducir():\n",
    "    with mic as source:\n",
    "        print(\"Hable ahora…\")\n",
    "        rec.adjust_for_ambient_noise(source, duration=0.2)\n",
    "        audio = rec.listen(source)\n",
    "\n",
    "    rec_aud = rec.recognize_google(audio)\n",
    "    print(\"Audio de entrada :\", rec_aud)\n",
    "\n",
    "    res = await translator.translate(rec_aud, src='es', dest='en')\n",
    "    print(\"El texto traducido es:\", res.text)\n",
    "\n",
    "    # Convertir el texto a audio y reproducirlo\n",
    "    speak = gTTS(text=res.text, lang='en', slow=False)\n",
    "    speak.save(\"recorded_audio.mp3\")\n",
    "    os.system(\"start recorded_audio.mp3\")\n",
    "\n",
    "await grabar_y_traducir()"
   ]
  }
 ],
 "metadata": {
  "kernelspec": {
   "display_name": "traductor",
   "language": "python",
   "name": "python3"
  },
  "language_info": {
   "codemirror_mode": {
    "name": "ipython",
    "version": 3
   },
   "file_extension": ".py",
   "mimetype": "text/x-python",
   "name": "python",
   "nbconvert_exporter": "python",
   "pygments_lexer": "ipython3",
   "version": "3.11.13"
  }
 },
 "nbformat": 4,
 "nbformat_minor": 5
}
