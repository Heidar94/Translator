{
 "cells": [
  {
   "cell_type": "markdown",
   "id": "3e97767c",
   "metadata": {},
   "source": [
    "Instalación de librerías (hacerlo solo la primera vez)"
   ]
  },
  {
   "cell_type": "code",
   "execution_count": null,
   "id": "77620cee",
   "metadata": {},
   "outputs": [],
   "source": [
    "%pip install googletrans"
   ]
  },
  {
   "cell_type": "code",
   "execution_count": null,
   "id": "ff778c3d",
   "metadata": {},
   "outputs": [],
   "source": [
    "%pip install \"httpx[http2]>=0.28\" "
   ]
  },
  {
   "cell_type": "code",
   "execution_count": null,
   "id": "ed1d73c4",
   "metadata": {},
   "outputs": [],
   "source": [
    "%pip install gTTS"
   ]
  },
  {
   "cell_type": "code",
   "execution_count": null,
   "id": "d456efe9",
   "metadata": {},
   "outputs": [],
   "source": [
    "%pip install SpeechRecognition"
   ]
  },
  {
   "cell_type": "code",
   "execution_count": null,
   "id": "d3c8a456",
   "metadata": {},
   "outputs": [],
   "source": [
    "%pip install pyaudio"
   ]
  },
  {
   "cell_type": "markdown",
   "id": "fd919304",
   "metadata": {},
   "source": [
    "Importe de las librerias"
   ]
  },
  {
   "cell_type": "code",
   "execution_count": null,
   "id": "a80864cc",
   "metadata": {},
   "outputs": [],
   "source": [
    "import googletrans\n",
    "from googletrans import Translator # To detect and translate text\n",
    "\n",
    "import speech_recognition as sr # To recognize speech\n",
    "\n",
    "from gtts import gTTS # Google Text-to-Speech to convert text to audio\n",
    "\n",
    "import os # To work with files\n",
    "import asyncio"
   ]
  },
  {
   "cell_type": "markdown",
   "id": "d831fdd9",
   "metadata": {},
   "source": [
    "Lista de lenguajes del traductor de google"
   ]
  },
  {
   "cell_type": "code",
   "execution_count": 20,
   "id": "020e04c3",
   "metadata": {},
   "outputs": [
    {
     "name": "stdout",
     "output_type": "stream",
     "text": [
      "{'abk': 'abkhaz', 'ace': 'acehnese', 'ach': 'acholi', 'aar': 'afar', 'af': 'afrikaans', 'sq': 'albanian', 'alz': 'alur', 'am': 'amharic', 'ar': 'arabic', 'hy': 'armenian', 'as': 'assamese', 'ava': 'avar', 'awa': 'awadhi', 'ay': 'aymara', 'az': 'azerbaijani', 'ban': 'balinese', 'bal': 'baluchi', 'bm': 'bambara', 'bci': 'baoulé', 'bak': 'bashkir', 'eu': 'basque', 'btx': 'batak karo', 'bts': 'batak simalungun', 'bbc': 'batak toba', 'be': 'belarusian', 'bem': 'bemba', 'bn': 'bengali', 'bew': 'betawi', 'bho': 'bhojpuri', 'bik': 'bikol', 'bs': 'bosnian', 'bre': 'breton', 'bg': 'bulgarian', 'bua': 'buryat', 'yue': 'cantonese', 'ca': 'catalan', 'ceb': 'cebuano', 'cha': 'chamorro', 'che': 'chechen', 'zh': 'chinese', 'zh-cn': 'chinese (simplified)', 'zh-tw': 'chinese (traditional)', 'chk': 'chuukese', 'chv': 'chuvash', 'co': 'corsican', 'crh': 'crimean tatar', 'hr': 'croatian', 'cs': 'czech', 'da': 'danish', 'fa-af': 'dari', 'dv': 'dhivehi', 'din': 'dinka', 'doi': 'dogri', 'dom': 'dombe', 'nl': 'dutch', 'dyu': 'dyula', 'dzo': 'dzongkha', 'en': 'english', 'eo': 'esperanto', 'et': 'estonian', 'fao': 'faroese', 'fij': 'fijian', 'fil': 'filipino (tagalog)', 'fi': 'finnish', 'fon': 'fon', 'fr': 'french', 'fy': 'frisian', 'fur': 'friulian', 'ful': 'fulani', 'gaa': 'ga', 'gl': 'galician', 'ka': 'georgian', 'de': 'german', 'el': 'greek', 'gn': 'guarani', 'gu': 'gujarati', 'ht': 'haitian creole', 'cnh': 'hakha chin', 'ha': 'hausa', 'haw': 'hawaiian', 'he': 'hebrew', 'iw': 'hebrew', 'hil': 'hiligaynon', 'hi': 'hindi', 'hmn': 'hmong', 'hu': 'hungarian', 'hrx': 'hunsrik', 'iba': 'iban', 'is': 'icelandic', 'ig': 'igbo', 'ilo': 'ilocano', 'id': 'indonesian', 'ga': 'irish', 'it': 'italian', 'jam': 'jamaican patois', 'ja': 'japanese', 'jv': 'javanese', 'jw': 'javanese', 'kac': 'jingpo', 'kal': 'kalaallisut', 'kn': 'kannada', 'kau': 'kanuri', 'pam': 'kapampangan', 'kk': 'kazakh', 'kha': 'khasi', 'km': 'khmer', 'cgg': 'kiga', 'kik': 'kikongo', 'rw': 'kinyarwanda', 'ktu': 'kituba', 'trp': 'kokborok', 'kom': 'komi', 'gom': 'konkani', 'ko': 'korean', 'kri': 'krio', 'ku': 'kurdish', 'ckb': 'kurdish (sorani)', 'ky': 'kyrgyz', 'lo': 'lao', 'ltg': 'latgalian', 'la': 'latin', 'lv': 'latvian', 'lij': 'ligurian', 'lim': 'limburgish', 'ln': 'lingala', 'lt': 'lithuanian', 'lmo': 'lombard', 'lg': 'luganda', 'luo': 'luo', 'lb': 'luxembourgish', 'mk': 'macedonian', 'mad': 'madurese', 'mai': 'maithili', 'mak': 'makassar', 'mg': 'malagasy', 'ms': 'malay', 'ms-arab': 'malay (jawi)', 'ml': 'malayalam', 'mt': 'maltese', 'mam': 'mam', 'glv': 'manx', 'mi': 'maori', 'mr': 'marathi', 'mah': 'marshallese', 'mwr': 'marwadi', 'mfe': 'mauritian creole', 'mhr': 'meadow mari', 'mni-mtei': 'meiteilon (manipuri)', 'min': 'minang', 'lus': 'mizo', 'mn': 'mongolian', 'my': 'myanmar (burmese)', 'nhe': 'nahuatl (eastern huasteca)', 'ndc-zw': 'ndau', 'nde': 'ndebele (south)', 'new': 'nepalbhasa (newari)', 'ne': 'nepali', 'no': 'norwegian', 'nus': 'nuer', 'ny': 'nyanja (chichewa)', 'oci': 'occitan', 'or': 'odia (oriya)', 'om': 'oromo', 'oss': 'ossetian', 'pag': 'pangasinan', 'pap': 'papiamento', 'ps': 'pashto', 'fa': 'persian', 'pl': 'polish', 'por': 'portuguese (portugal)', 'pt': 'portuguese (portugal, brazil)', 'pa': 'punjabi', 'pa-arab': 'punjabi (shahmukhi)', 'kek': \"q'eqchi'\", 'qu': 'quechua', 'rom': 'romani', 'ro': 'romanian', 'run': 'rundi', 'ru': 'russian', 'sme': 'sami (north)', 'sm': 'samoan', 'sag': 'sango', 'sa': 'sanskrit', 'sat': 'santali', 'gd': 'scots gaelic', 'nso': 'sepedi', 'sr': 'serbian', 'st': 'sesotho', 'crs': 'seychellois creole', 'shn': 'shan', 'sn': 'shona', 'scn': 'sicilian', 'szl': 'silesian', 'sd': 'sindhi', 'si': 'sinhala (sinhalese)', 'sk': 'slovak', 'sl': 'slovenian', 'so': 'somali', 'es': 'spanish', 'su': 'sundanese', 'sus': 'susu', 'sw': 'swahili', 'ssw': 'swati', 'sv': 'swedish', 'tl': 'tagalog (filipino)', 'tah': 'tahitian', 'tg': 'tajik', 'ber-atn': 'tamazight', 'ber': 'tamazight (tifinagh)', 'ta': 'tamil', 'tt': 'tatar', 'te': 'telugu', 'tet': 'tetum', 'th': 'thai', 'bod': 'tibetan', 'ti': 'tigrinya', 'tiv': 'tiv', 'tpi': 'tok pisin', 'ton': 'tongan', 'ts': 'tsonga', 'tsn': 'tswana', 'tcy': 'tulu', 'tum': 'tumbuka', 'tr': 'turkish', 'tk': 'turkmen', 'tuk': 'tuvan', 'ak': 'twi (akan)', 'udm': 'udmurt', 'uk': 'ukrainian', 'ur': 'urdu', 'ug': 'uyghur', 'uz': 'uzbek', 'ven': 'venda', 'vec': 'venetian', 'vi': 'vietnamese', 'war': 'waray', 'cy': 'welsh', 'wol': 'wolof', 'xh': 'xhosa', 'sah': 'yakut', 'yi': 'yiddish', 'yo': 'yoruba', 'yua': 'yucatec maya', 'zap': 'zapotec', 'zu': 'zulu'}\n"
     ]
    }
   ],
   "source": [
    "print(googletrans.LANGUAGES)"
   ]
  },
  {
   "cell_type": "markdown",
   "id": "21306b05",
   "metadata": {},
   "source": [
    "Prueba para saber si detecta correctamente el idioma"
   ]
  },
  {
   "cell_type": "code",
   "execution_count": 21,
   "id": "16f628c2",
   "metadata": {},
   "outputs": [
    {
     "name": "stdout",
     "output_type": "stream",
     "text": [
      "Detected(lang=fr, confidence=1)\n",
      "Detected(lang=ja, confidence=1)\n"
     ]
    }
   ],
   "source": [
    "async def detect_language():\n",
    "    translator = Translator()\n",
    "    res1 = await translator.detect(\"Salut comment ça va?\")\n",
    "    res2 = await translator.detect(\"Kon'nichiwa, genkidesuka\")\n",
    "    print(res1)\n",
    "    print(res2)\n",
    "\n",
    "await detect_language()\n"
   ]
  },
  {
   "cell_type": "code",
   "execution_count": 22,
   "id": "8b7ea599",
   "metadata": {},
   "outputs": [
    {
     "name": "stdout",
     "output_type": "stream",
     "text": [
      "Hi how are you?\n",
      "Hello, are you doing well?\n"
     ]
    }
   ],
   "source": [
    "async def translate_text():\n",
    "    translator = Translator()\n",
    "    res1 = await translator.translate(\"Salut comment ça va?\")\n",
    "    res2 = await translator.translate(\"Kon'nichiwa, genkidesuka\")\n",
    "    print(res1.text)  # How are you?\n",
    "    print(res2.text)  # Hello, how are you?\n",
    "\n",
    "await translate_text()"
   ]
  },
  {
   "cell_type": "code",
   "execution_count": null,
   "id": "a0990499",
   "metadata": {},
   "outputs": [],
   "source": []
  }
 ],
 "metadata": {
  "kernelspec": {
   "display_name": "traductor",
   "language": "python",
   "name": "python3"
  },
  "language_info": {
   "codemirror_mode": {
    "name": "ipython",
    "version": 3
   },
   "file_extension": ".py",
   "mimetype": "text/x-python",
   "name": "python",
   "nbconvert_exporter": "python",
   "pygments_lexer": "ipython3",
   "version": "3.11.13"
  }
 },
 "nbformat": 4,
 "nbformat_minor": 5
}
